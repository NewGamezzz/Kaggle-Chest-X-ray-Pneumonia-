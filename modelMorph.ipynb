{
 "cells": [
  {
   "cell_type": "code",
   "execution_count": 1,
   "id": "b139dfa6-d742-4532-b6d1-bc5149118a62",
   "metadata": {},
   "outputs": [],
   "source": [
    "import os\n",
    "import pandas as pd\n",
    "import numpy as np\n",
    "import pickle\n",
    "from PIL import Image\n",
    "import matplotlib.pyplot as plt\n",
    "\n",
    "import torch\n",
    "import torch.nn as nn\n",
    "import torchvision.transforms as T\n",
    "import torch.nn.functional as F\n",
    "from torch.utils.data import Dataset, DataLoader\n",
    "import torch.optim as optim\n",
    "from torch.optim.lr_scheduler import ReduceLROnPlateau\n",
    "\n",
    "from utils.utils import *\n",
    "from utils.dataset import XRayDataset\n",
    "from utils.transform import *"
   ]
  },
  {
   "cell_type": "markdown",
   "id": "aa67ddaa-a185-4519-a498-0dde5040bc41",
   "metadata": {},
   "source": [
    "# CUDA"
   ]
  },
  {
   "cell_type": "code",
   "execution_count": 2,
   "id": "5127b6a1-00ba-4256-96c5-20684253a7ed",
   "metadata": {},
   "outputs": [
    {
     "data": {
      "text/plain": [
       "device(type='cuda')"
      ]
     },
     "execution_count": 2,
     "metadata": {},
     "output_type": "execute_result"
    }
   ],
   "source": [
    "def format_pytorch_version(version):\n",
    "    return version.split('+')[0]\n",
    "\n",
    "TORCH_version = torch.__version__\n",
    "TORCH = format_pytorch_version(TORCH_version)\n",
    "\n",
    "def format_cuda_version(version):\n",
    "    return 'cu' + version.replace('.', '')\n",
    "\n",
    "CUDA_version = torch.version.cuda\n",
    "CUDA = format_cuda_version(CUDA_version)\n",
    "\n",
    "device = torch.device('cuda' if torch.cuda.is_available() else 'cpu')\n",
    "device"
   ]
  },
  {
   "cell_type": "markdown",
   "id": "a6b8f90d-da90-41aa-886e-a08eccfbf17a",
   "metadata": {},
   "source": [
    "# Dataset and Dataloader"
   ]
  },
  {
   "cell_type": "code",
   "execution_count": 55,
   "id": "77b04dd3-9fdd-44e8-a381-772dba1a3e7a",
   "metadata": {},
   "outputs": [],
   "source": [
    "df_train = pd.read_csv('data/train_undersampling.csv')\n",
    "df_test = pd.read_csv('data/test.csv')\n",
    "df_val = pd.read_csv('data/val.csv')\n",
    "\n",
    "transform = MorphTransform(kernel_size=5)\n",
    "\n",
    "train_dataset = XRayDataset(df_train, transform)\n",
    "test_dataset = XRayDataset(df_test, transform)\n",
    "\n",
    "train_dataloader = DataLoader(train_dataset, batch_size=512, shuffle=True)\n",
    "test_dataloader = DataLoader(test_dataset, batch_size=512, shuffle=True)"
   ]
  },
  {
   "cell_type": "markdown",
   "id": "53b95608-926d-4cd5-b969-2fe3e9cc8992",
   "metadata": {},
   "source": [
    "# Model"
   ]
  },
  {
   "cell_type": "code",
   "execution_count": 56,
   "id": "617e04c2-61de-4a3b-acd2-1e347f2b8d63",
   "metadata": {},
   "outputs": [],
   "source": [
    "class Net(nn.Module):\n",
    "    def __init__(self):\n",
    "        super().__init__()\n",
    "        self.conv1 = nn.Conv2d(1, 6, 5)\n",
    "        self.pool = nn.MaxPool2d(5, 5)\n",
    "        self.conv2 = nn.Conv2d(6, 16, 5)\n",
    "        self.fc1 = nn.Linear(1296, 32)\n",
    "        self.fc2 = nn.Linear(32, 16)\n",
    "        self.dropout = nn.Dropout(0.3)\n",
    "        self.fc3 = nn.Linear(16, 2)\n",
    "\n",
    "    def forward(self, x):\n",
    "        x = self.pool(F.relu(self.conv1(x)))\n",
    "        x = self.pool(F.relu(self.conv2(x)))\n",
    "        x = torch.flatten(x, 1) # flatten all dimensions except batch\n",
    "        x = F.relu(self.fc1(x))\n",
    "        x = F.relu(self.fc2(x))\n",
    "        x = self.fc3(x)\n",
    "        return x"
   ]
  },
  {
   "cell_type": "code",
   "execution_count": 69,
   "id": "adf526a7-c435-4b35-a13a-d8bb1c00b11f",
   "metadata": {},
   "outputs": [],
   "source": [
    "model = Net().to(device)\n",
    "criterion = nn.CrossEntropyLoss()\n",
    "optimizer = torch.optim.Adam(model.parameters(), lr=0.001)\n",
    "scheduler = ReduceLROnPlateau(optimizer, 'min', factor=0.3, patience=2, min_lr=0.000001)"
   ]
  },
  {
   "cell_type": "code",
   "execution_count": 70,
   "id": "237045b3-50cd-4bfb-842a-7914813436c1",
   "metadata": {},
   "outputs": [],
   "source": [
    "def train(dataloader):\n",
    "    model.train()\n",
    "    c=0\n",
    "    correct=0\n",
    "    total = 0\n",
    "    acc = 0\n",
    "\n",
    "    for i, data in enumerate(dataloader):\n",
    "        # get the inputs; data is a list of [inputs, labels]\n",
    "        inputs, labels = data[0].to(device), data[1].to(device)\n",
    "\n",
    "        # zero the parameter gradients\n",
    "        optimizer.zero_grad()\n",
    "\n",
    "        # forward + backward + optimize\n",
    "        outputs = model(inputs)\n",
    "        loss = criterion(outputs, labels)\n",
    "        loss.backward()\n",
    "        optimizer.step()\n",
    "\n",
    "        c=c+1\n",
    "        correct+=loss.cpu().detach().numpy()\n",
    "        \n",
    "        _, predicted = torch.max(outputs.data, 1)\n",
    "        total += labels.size(0)\n",
    "        acc += (predicted == labels).sum().item()\n",
    "        \n",
    "    return correct/c, acc/total\n",
    "\n",
    "def test(dataloader):\n",
    "    model.eval()\n",
    "    c=0\n",
    "    correct=0\n",
    "    total = 0\n",
    "    acc = 0\n",
    "\n",
    "    for i, data in enumerate(dataloader):\n",
    "        # get the inputs; data is a list of [inputs, labels]\n",
    "        inputs, labels = data[0].to(device), data[1].to(device)\n",
    "\n",
    "        # forward + backward + optimize\n",
    "        outputs = model(inputs)\n",
    "        loss = criterion(outputs, labels)\n",
    "\n",
    "        c=c+1\n",
    "        correct+=loss.cpu().detach().numpy()\n",
    "        \n",
    "        _, predicted = torch.max(outputs.data, 1)\n",
    "        total += labels.size(0)\n",
    "        acc += (predicted == labels).sum().item()\n",
    "    return correct/c, acc/total"
   ]
  },
  {
   "cell_type": "code",
   "execution_count": 71,
   "id": "92897835-16ad-4e4a-bfae-be78383c2cfd",
   "metadata": {},
   "outputs": [
    {
     "name": "stdout",
     "output_type": "stream",
     "text": [
      "start train\n",
      "\n",
      "Epoch: 001, Train CrossEntropy: 0.6934, Test CrossEntropy: 0.6964\n",
      "            Train Accuracy: 0.4695, Test Accuracy: 0.3750\n",
      "\n",
      "Minimum Loss: 0.6963684260845184\n",
      "Epoch: 002, Train CrossEntropy: 0.6887, Test CrossEntropy: 0.7000\n",
      "            Train Accuracy: 0.5078, Test Accuracy: 0.3750\n",
      "\n",
      "Epoch: 003, Train CrossEntropy: 0.6814, Test CrossEntropy: 0.7027\n",
      "            Train Accuracy: 0.5078, Test Accuracy: 0.3750\n",
      "\n",
      "Epoch: 004, Train CrossEntropy: 0.6729, Test CrossEntropy: 0.6932\n",
      "            Train Accuracy: 0.5078, Test Accuracy: 0.3750\n",
      "\n",
      "Minimum Loss: 0.6931771636009216\n",
      "Epoch: 005, Train CrossEntropy: 0.6556, Test CrossEntropy: 0.6930\n",
      "            Train Accuracy: 0.5085, Test Accuracy: 0.3910\n",
      "\n",
      "Minimum Loss: 0.6930491924285889\n",
      "Epoch: 006, Train CrossEntropy: 0.6263, Test CrossEntropy: 0.6750\n",
      "            Train Accuracy: 0.5869, Test Accuracy: 0.4984\n",
      "\n",
      "Minimum Loss: 0.6750048100948334\n",
      "Epoch: 007, Train CrossEntropy: 0.5817, Test CrossEntropy: 0.6384\n",
      "            Train Accuracy: 0.6906, Test Accuracy: 0.7035\n",
      "\n",
      "Minimum Loss: 0.6384358704090118\n",
      "Epoch: 008, Train CrossEntropy: 0.5214, Test CrossEntropy: 0.6432\n",
      "            Train Accuracy: 0.8129, Test Accuracy: 0.6298\n",
      "\n",
      "Epoch: 009, Train CrossEntropy: 0.4681, Test CrossEntropy: 0.5244\n",
      "            Train Accuracy: 0.8429, Test Accuracy: 0.8061\n",
      "\n",
      "Minimum Loss: 0.5244026184082031\n",
      "Epoch: 010, Train CrossEntropy: 0.4064, Test CrossEntropy: 0.4316\n",
      "            Train Accuracy: 0.8849, Test Accuracy: 0.7997\n",
      "\n",
      "Minimum Loss: 0.43157415091991425\n",
      "Epoch: 011, Train CrossEntropy: 0.3446, Test CrossEntropy: 0.4357\n",
      "            Train Accuracy: 0.8898, Test Accuracy: 0.7548\n",
      "\n",
      "Epoch: 012, Train CrossEntropy: 0.3101, Test CrossEntropy: 0.4198\n",
      "            Train Accuracy: 0.8944, Test Accuracy: 0.7997\n",
      "\n",
      "Minimum Loss: 0.4198007583618164\n",
      "Epoch: 013, Train CrossEntropy: 0.2599, Test CrossEntropy: 0.3798\n",
      "            Train Accuracy: 0.9129, Test Accuracy: 0.8301\n",
      "\n",
      "Minimum Loss: 0.37983274459838867\n",
      "Epoch: 014, Train CrossEntropy: 0.2559, Test CrossEntropy: 0.3557\n",
      "            Train Accuracy: 0.9140, Test Accuracy: 0.8429\n",
      "\n",
      "Minimum Loss: 0.35571762919425964\n",
      "Epoch: 015, Train CrossEntropy: 0.2366, Test CrossEntropy: 0.3929\n",
      "            Train Accuracy: 0.9114, Test Accuracy: 0.8301\n",
      "\n",
      "Epoch: 016, Train CrossEntropy: 0.2334, Test CrossEntropy: 0.4022\n",
      "            Train Accuracy: 0.9220, Test Accuracy: 0.8077\n",
      "\n",
      "Epoch: 017, Train CrossEntropy: 0.2152, Test CrossEntropy: 0.4191\n",
      "            Train Accuracy: 0.9250, Test Accuracy: 0.8125\n",
      "\n",
      "Epoch: 018, Train CrossEntropy: 0.2061, Test CrossEntropy: 0.3432\n",
      "            Train Accuracy: 0.9258, Test Accuracy: 0.8494\n",
      "\n",
      "Minimum Loss: 0.3432391583919525\n",
      "Epoch: 019, Train CrossEntropy: 0.2038, Test CrossEntropy: 0.3875\n",
      "            Train Accuracy: 0.9292, Test Accuracy: 0.8269\n",
      "\n",
      "Epoch: 020, Train CrossEntropy: 0.2111, Test CrossEntropy: 0.3468\n",
      "            Train Accuracy: 0.9330, Test Accuracy: 0.8429\n",
      "\n",
      "Epoch: 021, Train CrossEntropy: 0.1981, Test CrossEntropy: 0.3567\n",
      "            Train Accuracy: 0.9322, Test Accuracy: 0.8285\n",
      "\n",
      "Epoch: 022, Train CrossEntropy: 0.1886, Test CrossEntropy: 0.3352\n",
      "            Train Accuracy: 0.9326, Test Accuracy: 0.8478\n",
      "\n",
      "Minimum Loss: 0.3352366089820862\n",
      "Epoch: 023, Train CrossEntropy: 0.1913, Test CrossEntropy: 0.3092\n",
      "            Train Accuracy: 0.9341, Test Accuracy: 0.8478\n",
      "\n",
      "Minimum Loss: 0.3092297986149788\n",
      "Epoch: 024, Train CrossEntropy: 0.1936, Test CrossEntropy: 0.3263\n",
      "            Train Accuracy: 0.9353, Test Accuracy: 0.8494\n",
      "\n",
      "Epoch: 025, Train CrossEntropy: 0.1951, Test CrossEntropy: 0.3614\n",
      "            Train Accuracy: 0.9349, Test Accuracy: 0.8542\n",
      "\n"
     ]
    }
   ],
   "source": [
    "train_matrix = {'loss':[], 'accuracy':[]}\n",
    "test_matrix = {'loss':[], 'accuracy':[]}\n",
    "epochs = 25\n",
    "min_loss = 100\n",
    "print('start train\\n')\n",
    "\n",
    "for epoch in range(epochs):\n",
    "    train_loss, train_acc = train(train_dataloader)\n",
    "    test_loss, test_acc = test(test_dataloader)\n",
    "    train_matrix['loss'].append(train_loss)\n",
    "    train_matrix['accuracy'].append(train_acc)\n",
    "    test_matrix['loss'].append(test_loss)\n",
    "    test_matrix['accuracy'].append(test_acc)\n",
    "    scheduler.step(test_loss)\n",
    "    print(f'Epoch: {epoch+1:03d}, Train CrossEntropy: {train_loss:.4f}, Test CrossEntropy: {test_loss:.4f}')\n",
    "    print(f'            Train Accuracy: {train_acc:.4f}, Test Accuracy: {test_acc:.4f}\\n')\n",
    "    if min_loss > test_loss:\n",
    "        min_loss = test_loss\n",
    "        print('Minimum Loss: {}'.format(min_loss))\n",
    "        torch.save(model.state_dict(), \"model/morph/best3.pt\")"
   ]
  },
  {
   "cell_type": "code",
   "execution_count": 73,
   "id": "01b6156f-a42e-449d-b395-85aa56f37c9f",
   "metadata": {},
   "outputs": [],
   "source": [
    "torch.save(model.state_dict(), \"model/morph/last3.pt\")"
   ]
  },
  {
   "cell_type": "code",
   "execution_count": 74,
   "id": "614f4e81-2068-40a3-8eeb-7459f9ca01be",
   "metadata": {},
   "outputs": [
    {
     "data": {
      "image/png": "[encoded data removed]",
      "text/plain": [
       "<Figure size 432x288 with 1 Axes>"
      ]
     },
     "metadata": {
      "needs_background": "light"
     },
     "output_type": "display_data"
    }
   ],
   "source": [
    "plt.title('accuracy')\n",
    "plt.plot(np.arange(epochs), train_matrix['accuracy'], label='train loss')\n",
    "plt.plot(np.arange(epochs), test_matrix['accuracy'], label='val loss')\n",
    "\n",
    "plt.legend()\n",
    "plt.show()"
   ]
  },
  {
   "cell_type": "code",
   "execution_count": 75,
   "id": "40dbbf23-0487-4326-b67a-1390d3d0cde7",
   "metadata": {},
   "outputs": [
    {
     "data": {
      "image/png": "[encoded data removed]",
      "text/plain": [
       "<Figure size 432x288 with 1 Axes>"
      ]
     },
     "metadata": {
      "needs_background": "light"
     },
     "output_type": "display_data"
    }
   ],
   "source": [
    "plt.title('loss')\n",
    "plt.plot(np.arange(epochs), train_matrix['loss'], label='train loss')\n",
    "plt.plot(np.arange(epochs), test_matrix['loss'], label='val loss')\n",
    "\n",
    "plt.legend()\n",
    "plt.show()"
   ]
  },
  {
   "cell_type": "code",
   "execution_count": 76,
   "id": "eb76005a-44aa-4ce0-b5a4-f7ffdbdeebfa",
   "metadata": {},
   "outputs": [],
   "source": [
    "pickle.dump(train_matrix, open(\"model/morph/train_matrix3.pkl\", \"wb\"))\n",
    "pickle.dump(test_matrix, open(\"model/morph/test_matrix3.pkl\", \"wb\"))"
   ]
  },
  {
   "cell_type": "markdown",
   "id": "1afe87e7-e7fa-4a85-8c71-5c9133fcca4f",
   "metadata": {
    "tags": []
   },
   "source": [
    "# Inference"
   ]
  },
  {
   "cell_type": "code",
   "execution_count": 84,
   "id": "c0eeab3c-22e2-4a73-8b35-05def7a1ba50",
   "metadata": {},
   "outputs": [],
   "source": [
    "from sklearn.metrics import accuracy_score, confusion_matrix, f1_score, precision_score, recall_score\n",
    "import seaborn as sns"
   ]
  },
  {
   "cell_type": "code",
   "execution_count": 78,
   "id": "83ba68ff-5089-4ceb-8396-30c7319686ff",
   "metadata": {},
   "outputs": [],
   "source": [
    "def show_confusion_matrix(y_test, y_pred):\n",
    "    cm = confusion_matrix(y_test, y_pred)\n",
    "    sns.heatmap(cm, annot=True, cmap=plt.cm.Blues, xticklabels=[\"Normal\", \"Pneumonia\"], yticklabels=[\"Normal\", \"Pneumonia\"]) # PD is Parkinson Disease\n",
    "    plt.title(\"Confusion Matrix\")\n",
    "    plt.xlabel(\"predicted label\")\n",
    "    plt.ylabel(\"true label\")"
   ]
  },
  {
   "cell_type": "code",
   "execution_count": 87,
   "id": "b712e6a4-e839-473c-92d8-4cf6ce0d1da0",
   "metadata": {},
   "outputs": [
    {
     "data": {
      "text/plain": [
       "Net(\n",
       "  (conv1): Conv2d(1, 6, kernel_size=(5, 5), stride=(1, 1))\n",
       "  (pool): MaxPool2d(kernel_size=5, stride=5, padding=0, dilation=1, ceil_mode=False)\n",
       "  (conv2): Conv2d(6, 16, kernel_size=(5, 5), stride=(1, 1))\n",
       "  (fc1): Linear(in_features=1296, out_features=32, bias=True)\n",
       "  (fc2): Linear(in_features=32, out_features=16, bias=True)\n",
       "  (dropout): Dropout(p=0.3, inplace=False)\n",
       "  (fc3): Linear(in_features=16, out_features=2, bias=True)\n",
       ")"
      ]
     },
     "execution_count": 87,
     "metadata": {},
     "output_type": "execute_result"
    }
   ],
   "source": [
    "model_infer = Net().to(device)\n",
    "model_infer.load_state_dict(torch.load(\"model/morph/best3.pt\"))\n",
    "model_infer.eval()"
   ]
  },
  {
   "cell_type": "code",
   "execution_count": 88,
   "id": "06af2038-2aea-4a3a-b2d2-d8ccd35783bd",
   "metadata": {},
   "outputs": [],
   "source": [
    "predict = []\n",
    "actual = []\n",
    "for i, data in enumerate(test_dataloader):\n",
    "    inputs, labels = data[0].to(device), data[1].to(device)\n",
    "\n",
    "    # forward + backward + optimize\n",
    "    outputs = model_infer(inputs)\n",
    "    _, predicted = torch.max(outputs.data, 1)\n",
    "    predict.append(predicted.cpu().detach().numpy())\n",
    "    actual.append(labels.cpu().detach().numpy())\n",
    "    \n",
    "predict = np.concatenate(predict)\n",
    "actual = np.concatenate(actual)"
   ]
  },
  {
   "cell_type": "code",
   "execution_count": 89,
   "id": "2e140283-b995-47ee-b022-6c8b853c4929",
   "metadata": {},
   "outputs": [
    {
     "name": "stdout",
     "output_type": "stream",
     "text": [
      "F1 Score: 0.8837209302325582\n",
      "Accuracy: 0.8477564102564102\n",
      "Precision: 0.8454332552693209\n",
      "Recall: 0.9256410256410257\n"
     ]
    },
    {
     "data": {
      "image/png": "[encoded data removed]",
      "text/plain": [
       "<Figure size 432x288 with 2 Axes>"
      ]
     },
     "metadata": {
      "needs_background": "light"
     },
     "output_type": "display_data"
    }
   ],
   "source": [
    "print(f\"F1 Score: {f1_score(actual, predict)}\")\n",
    "print(f\"Accuracy: {accuracy_score(actual, predict)}\")\n",
    "print(f\"Precision: {precision_score(actual, predict)}\")\n",
    "print(f\"Recall: {recall_score(actual, predict)}\")\n",
    "\n",
    "show_confusion_matrix(actual, predict)"
   ]
  },
  {
   "cell_type": "code",
   "execution_count": null,
   "id": "662fe44a-7c95-4f66-bb71-cd91682391a7",
   "metadata": {},
   "outputs": [],
   "source": []
  },
  {
   "cell_type": "code",
   "execution_count": null,
   "id": "5588534d-4d74-48d6-98c4-524847fea0d2",
   "metadata": {},
   "outputs": [],
   "source": []
  }
 ],
 "metadata": {
  "kernelspec": {
   "display_name": "X-ray_CUDA",
   "language": "python",
   "name": "x-ray_cuda"
  },
  "language_info": {
   "codemirror_mode": {
    "name": "ipython",
    "version": 3
   },
   "file_extension": ".py",
   "mimetype": "text/x-python",
   "name": "python",
   "nbconvert_exporter": "python",
   "pygments_lexer": "ipython3",
   "version": "3.7.11"
  }
 },
 "nbformat": 4,
 "nbformat_minor": 5
}
