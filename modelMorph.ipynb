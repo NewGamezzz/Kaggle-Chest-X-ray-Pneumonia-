{
 "cells": [
  {
   "cell_type": "code",
   "execution_count": 1,
   "id": "b139dfa6-d742-4532-b6d1-bc5149118a62",
   "metadata": {},
   "outputs": [],
   "source": [
    "import os\n",
    "import pandas as pd\n",
    "import numpy as np\n",
    "import pickle\n",
    "from PIL import Image\n",
    "import matplotlib.pyplot as plt\n",
    "\n",
    "import torch\n",
    "import torch.nn as nn\n",
    "import torchvision.transforms as T\n",
    "import torch.nn.functional as F\n",
    "from torch.utils.data import Dataset, DataLoader\n",
    "import torch.optim as optim\n",
    "from torch.optim.lr_scheduler import ReduceLROnPlateau\n",
    "\n",
    "from utils.utils import *\n",
    "from utils.dataset import XRayDataset\n",
    "from utils.transform import *"
   ]
  },
  {
   "cell_type": "markdown",
   "id": "aa67ddaa-a185-4519-a498-0dde5040bc41",
   "metadata": {},
   "source": [
    "# CUDA"
   ]
  },
  {
   "cell_type": "code",
   "execution_count": 2,
   "id": "5127b6a1-00ba-4256-96c5-20684253a7ed",
   "metadata": {},
   "outputs": [
    {
     "data": {
      "text/plain": [
       "device(type='cuda')"
      ]
     },
     "execution_count": 2,
     "metadata": {},
     "output_type": "execute_result"
    }
   ],
   "source": [
    "def format_pytorch_version(version):\n",
    "    return version.split('+')[0]\n",
    "\n",
    "TORCH_version = torch.__version__\n",
    "TORCH = format_pytorch_version(TORCH_version)\n",
    "\n",
    "def format_cuda_version(version):\n",
    "    return 'cu' + version.replace('.', '')\n",
    "\n",
    "CUDA_version = torch.version.cuda\n",
    "CUDA = format_cuda_version(CUDA_version)\n",
    "\n",
    "device = torch.device('cuda' if torch.cuda.is_available() else 'cpu')\n",
    "device"
   ]
  },
  {
   "cell_type": "markdown",
   "id": "a6b8f90d-da90-41aa-886e-a08eccfbf17a",
   "metadata": {},
   "source": [
    "# Dataset and Dataloader"
   ]
  },
  {
   "cell_type": "code",
   "execution_count": 3,
   "id": "77b04dd3-9fdd-44e8-a381-772dba1a3e7a",
   "metadata": {},
   "outputs": [],
   "source": [
    "df_train = pd.read_csv('data/train_undersampling.csv')\n",
    "df_test = pd.read_csv('data/test.csv')\n",
    "df_val = pd.read_csv('data/val.csv')\n",
    "\n",
    "transform = MorphTransform()\n",
    "\n",
    "train_dataset = XRayDataset(df_train, transform)\n",
    "test_dataset = XRayDataset(df_test, transform)\n",
    "\n",
    "train_dataloader = DataLoader(train_dataset, batch_size=512, shuffle=True)\n",
    "test_dataloader = DataLoader(test_dataset, batch_size=512, shuffle=True)"
   ]
  },
  {
   "cell_type": "markdown",
   "id": "53b95608-926d-4cd5-b969-2fe3e9cc8992",
   "metadata": {},
   "source": [
    "# Model"
   ]
  },
  {
   "cell_type": "code",
   "execution_count": 4,
   "id": "617e04c2-61de-4a3b-acd2-1e347f2b8d63",
   "metadata": {},
   "outputs": [],
   "source": [
    "class Net(nn.Module):\n",
    "    def __init__(self):\n",
    "        super().__init__()\n",
    "        self.conv1 = nn.Conv2d(1, 6, 5)\n",
    "        self.pool = nn.MaxPool2d(5, 5)\n",
    "        self.conv2 = nn.Conv2d(6, 16, 5)\n",
    "        self.fc1 = nn.Linear(1296, 32)\n",
    "        self.dropout1 = nn.Dropout(0.7)\n",
    "        self.fc2 = nn.Linear(32, 16)\n",
    "        self.dropout2 = nn.Dropout(0.7)\n",
    "        self.fc3 = nn.Linear(16, 2)\n",
    "\n",
    "    def forward(self, x):\n",
    "        x = self.pool(F.relu(self.conv1(x)))\n",
    "        x = self.pool(F.relu(self.conv2(x)))\n",
    "        x = torch.flatten(x, 1) # flatten all dimensions except batch\n",
    "        x = F.relu(self.fc1(x))\n",
    "        x = F.relu(self.fc2(x))\n",
    "        x = self.fc3(x)\n",
    "        return x"
   ]
  },
  {
   "cell_type": "code",
   "execution_count": 5,
   "id": "adf526a7-c435-4b35-a13a-d8bb1c00b11f",
   "metadata": {},
   "outputs": [],
   "source": [
    "model = Net().to(device)\n",
    "criterion = nn.CrossEntropyLoss()\n",
    "optimizer = torch.optim.Adam(model.parameters(), lr=0.001)\n",
    "scheduler = ReduceLROnPlateau(optimizer, 'min', factor=0.3, patience=2, min_lr=0.000001)"
   ]
  },
  {
   "cell_type": "code",
   "execution_count": 6,
   "id": "237045b3-50cd-4bfb-842a-7914813436c1",
   "metadata": {},
   "outputs": [],
   "source": [
    "def train(dataloader):\n",
    "    model.train()\n",
    "    c=0\n",
    "    correct=0\n",
    "    total = 0\n",
    "    acc = 0\n",
    "\n",
    "    for i, data in enumerate(dataloader):\n",
    "        # get the inputs; data is a list of [inputs, labels]\n",
    "        inputs, labels = data[0].to(device), data[1].to(device)\n",
    "\n",
    "        # zero the parameter gradients\n",
    "        optimizer.zero_grad()\n",
    "\n",
    "        # forward + backward + optimize\n",
    "        outputs = model(inputs)\n",
    "        loss = criterion(outputs, labels)\n",
    "        loss.backward()\n",
    "        optimizer.step()\n",
    "\n",
    "        c=c+1\n",
    "        correct+=loss.cpu().detach().numpy()\n",
    "        \n",
    "        _, predicted = torch.max(outputs.data, 1)\n",
    "        total += labels.size(0)\n",
    "        acc += (predicted == labels).sum().item()\n",
    "        \n",
    "    return correct/c, acc/total\n",
    "\n",
    "def test(dataloader):\n",
    "    model.eval()\n",
    "    c=0\n",
    "    correct=0\n",
    "    total = 0\n",
    "    acc = 0\n",
    "\n",
    "    for i, data in enumerate(dataloader):\n",
    "        # get the inputs; data is a list of [inputs, labels]\n",
    "        inputs, labels = data[0].to(device), data[1].to(device)\n",
    "\n",
    "        # forward + backward + optimize\n",
    "        outputs = model(inputs)\n",
    "        loss = criterion(outputs, labels)\n",
    "\n",
    "        c=c+1\n",
    "        correct+=loss.cpu().detach().numpy()\n",
    "        \n",
    "        _, predicted = torch.max(outputs.data, 1)\n",
    "        total += labels.size(0)\n",
    "        acc += (predicted == labels).sum().item()\n",
    "    return correct/c, acc/total"
   ]
  },
  {
   "cell_type": "code",
   "execution_count": 7,
   "id": "92897835-16ad-4e4a-bfae-be78383c2cfd",
   "metadata": {},
   "outputs": [
    {
     "name": "stdout",
     "output_type": "stream",
     "text": [
      "start train\n",
      "\n",
      "Epoch: 001, Train CrossEntropy: 0.6931, Test CrossEntropy: 0.7049\n",
      "            Train Accuracy: 0.5078, Test Accuracy: 0.3750\n",
      "\n",
      "Epoch: 002, Train CrossEntropy: 0.6903, Test CrossEntropy: 0.7054\n",
      "            Train Accuracy: 0.5078, Test Accuracy: 0.3750\n",
      "\n",
      "Epoch: 003, Train CrossEntropy: 0.6806, Test CrossEntropy: 0.6899\n",
      "            Train Accuracy: 0.5097, Test Accuracy: 0.4199\n",
      "\n",
      "Epoch: 004, Train CrossEntropy: 0.6641, Test CrossEntropy: 0.6581\n",
      "            Train Accuracy: 0.7811, Test Accuracy: 0.7131\n",
      "\n",
      "Epoch: 005, Train CrossEntropy: 0.6398, Test CrossEntropy: 0.6280\n",
      "            Train Accuracy: 0.7993, Test Accuracy: 0.7067\n",
      "\n",
      "Epoch: 006, Train CrossEntropy: 0.6010, Test CrossEntropy: 0.6039\n",
      "            Train Accuracy: 0.8459, Test Accuracy: 0.8061\n",
      "\n",
      "Epoch: 007, Train CrossEntropy: 0.5289, Test CrossEntropy: 0.5555\n",
      "            Train Accuracy: 0.8944, Test Accuracy: 0.8093\n",
      "\n",
      "Epoch: 008, Train CrossEntropy: 0.4545, Test CrossEntropy: 0.5470\n",
      "            Train Accuracy: 0.8879, Test Accuracy: 0.7756\n",
      "\n",
      "Epoch: 009, Train CrossEntropy: 0.4060, Test CrossEntropy: 0.4657\n",
      "            Train Accuracy: 0.8652, Test Accuracy: 0.8141\n",
      "\n",
      "Epoch: 010, Train CrossEntropy: 0.3352, Test CrossEntropy: 0.4668\n",
      "            Train Accuracy: 0.8940, Test Accuracy: 0.7981\n",
      "\n",
      "Epoch: 011, Train CrossEntropy: 0.3045, Test CrossEntropy: 0.4654\n",
      "            Train Accuracy: 0.9016, Test Accuracy: 0.7740\n",
      "\n",
      "Epoch: 012, Train CrossEntropy: 0.2813, Test CrossEntropy: 0.4217\n",
      "            Train Accuracy: 0.9053, Test Accuracy: 0.8413\n",
      "\n",
      "Epoch: 013, Train CrossEntropy: 0.2800, Test CrossEntropy: 0.4187\n",
      "            Train Accuracy: 0.9084, Test Accuracy: 0.8125\n",
      "\n",
      "Epoch: 014, Train CrossEntropy: 0.2568, Test CrossEntropy: 0.3837\n",
      "            Train Accuracy: 0.9133, Test Accuracy: 0.8462\n",
      "\n",
      "Epoch: 015, Train CrossEntropy: 0.2796, Test CrossEntropy: 0.4491\n",
      "            Train Accuracy: 0.9019, Test Accuracy: 0.8013\n",
      "\n",
      "Epoch: 016, Train CrossEntropy: 0.2598, Test CrossEntropy: 0.5057\n",
      "            Train Accuracy: 0.8974, Test Accuracy: 0.7628\n",
      "\n",
      "Epoch: 017, Train CrossEntropy: 0.2531, Test CrossEntropy: 0.4257\n",
      "            Train Accuracy: 0.9095, Test Accuracy: 0.7997\n",
      "\n",
      "Epoch: 018, Train CrossEntropy: 0.2118, Test CrossEntropy: 0.3728\n",
      "            Train Accuracy: 0.9239, Test Accuracy: 0.8638\n",
      "\n",
      "Epoch: 019, Train CrossEntropy: 0.2271, Test CrossEntropy: 0.3869\n",
      "            Train Accuracy: 0.9246, Test Accuracy: 0.8109\n",
      "\n",
      "Epoch: 020, Train CrossEntropy: 0.2261, Test CrossEntropy: 0.3836\n",
      "            Train Accuracy: 0.9216, Test Accuracy: 0.8558\n",
      "\n",
      "Epoch: 021, Train CrossEntropy: 0.2084, Test CrossEntropy: 0.4134\n",
      "            Train Accuracy: 0.9311, Test Accuracy: 0.8510\n",
      "\n",
      "Epoch: 022, Train CrossEntropy: 0.2023, Test CrossEntropy: 0.3530\n",
      "            Train Accuracy: 0.9318, Test Accuracy: 0.8510\n",
      "\n",
      "Epoch: 023, Train CrossEntropy: 0.2162, Test CrossEntropy: 0.3603\n",
      "            Train Accuracy: 0.9315, Test Accuracy: 0.8542\n",
      "\n",
      "Epoch: 024, Train CrossEntropy: 0.2012, Test CrossEntropy: 0.4037\n",
      "            Train Accuracy: 0.9315, Test Accuracy: 0.8494\n",
      "\n",
      "Epoch: 025, Train CrossEntropy: 0.2088, Test CrossEntropy: 0.3358\n",
      "            Train Accuracy: 0.9330, Test Accuracy: 0.8542\n",
      "\n"
     ]
    }
   ],
   "source": [
    "train_matrix = {'loss':[], 'accuracy':[]}\n",
    "test_matrix = {'loss':[], 'accuracy':[]}\n",
    "epochs = 25\n",
    "min_loss = 100\n",
    "print('start train\\n')\n",
    "\n",
    "for epoch in range(epochs):\n",
    "    train_loss, train_acc = train(train_dataloader)\n",
    "    test_loss, test_acc = test(test_dataloader)\n",
    "    train_matrix['loss'].append(train_loss)\n",
    "    train_matrix['accuracy'].append(train_acc)\n",
    "    test_matrix['loss'].append(test_loss)\n",
    "    test_matrix['accuracy'].append(test_acc)\n",
    "    scheduler.step(test_loss)\n",
    "    print(f'Epoch: {epoch+1:03d}, Train CrossEntropy: {train_loss:.4f}, Test CrossEntropy: {test_loss:.4f}')\n",
    "    print(f'            Train Accuracy: {train_acc:.4f}, Test Accuracy: {test_acc:.4f}\\n')"
   ]
  },
  {
   "cell_type": "code",
   "execution_count": 9,
   "id": "01b6156f-a42e-449d-b395-85aa56f37c9f",
   "metadata": {},
   "outputs": [],
   "source": [
    "# torch.save(model.state_dict(), 'model/ver3/last.pt')"
   ]
  },
  {
   "cell_type": "code",
   "execution_count": 10,
   "id": "614f4e81-2068-40a3-8eeb-7459f9ca01be",
   "metadata": {},
   "outputs": [
    {
     "data": {
      "image/png": "[encoded data removed]",
      "text/plain": [
       "<Figure size 432x288 with 1 Axes>"
      ]
     },
     "metadata": {
      "needs_background": "light"
     },
     "output_type": "display_data"
    }
   ],
   "source": [
    "plt.title('accuracy')\n",
    "plt.plot(np.arange(epochs), train_matrix['accuracy'], label='train loss')\n",
    "plt.plot(np.arange(epochs), test_matrix['accuracy'], label='val loss')\n",
    "\n",
    "plt.legend()\n",
    "plt.show()"
   ]
  },
  {
   "cell_type": "code",
   "execution_count": 11,
   "id": "40dbbf23-0487-4326-b67a-1390d3d0cde7",
   "metadata": {},
   "outputs": [
    {
     "data": {
      "image/png": "[encoded data removed]",
      "text/plain": [
       "<Figure size 432x288 with 1 Axes>"
      ]
     },
     "metadata": {
      "needs_background": "light"
     },
     "output_type": "display_data"
    }
   ],
   "source": [
    "plt.title('loss')\n",
    "plt.plot(np.arange(epochs), train_matrix['loss'], label='train loss')\n",
    "plt.plot(np.arange(epochs), test_matrix['loss'], label='val loss')\n",
    "\n",
    "plt.legend()\n",
    "plt.show()"
   ]
  },
  {
   "cell_type": "code",
   "execution_count": 54,
   "id": "e8306c2c-b8de-4aef-ac35-a2e7c0e4abaa",
   "metadata": {},
   "outputs": [],
   "source": [
    "for i, data in enumerate(test_dataloader):\n",
    "    # get the inputs; data is a list of [inputs, labels]\n",
    "    inputs, labels = data[0].to(device), data[1].to(device)\n",
    "\n",
    "    # forward + backward + optimize\n",
    "    outputs = model(inputs)\n",
    "    _, predicted = torch.max(outputs.data, 1)\n",
    "#     break"
   ]
  },
  {
   "cell_type": "code",
   "execution_count": 55,
   "id": "a2f64c1b-6e00-4fbc-9bb9-297ea7673bda",
   "metadata": {},
   "outputs": [
    {
     "data": {
      "text/plain": [
       "tensor([1, 1, 0, 0, 1, 1, 1, 1, 1, 1, 1, 1, 1, 1, 1, 1, 1, 1, 0, 1, 1, 1, 0, 1,\n",
       "        1, 1, 0, 1, 1, 1, 1, 1, 1, 1, 1, 0, 0, 0, 1, 1, 1, 1, 0, 0, 1, 0, 0, 1,\n",
       "        1, 1, 1, 1, 1, 1, 1, 1, 0, 1, 1, 1, 1, 1, 1, 1, 1, 1, 1, 1, 1, 1, 1, 1,\n",
       "        1, 0, 1, 1, 1, 0, 0, 1, 1, 1, 1, 1, 1, 1, 1, 0, 1, 1, 0, 0, 1, 1, 1, 1,\n",
       "        1, 1, 1, 1, 1, 1, 0, 1, 1, 0, 1, 1, 1, 1, 0, 1], device='cuda:0')"
      ]
     },
     "execution_count": 55,
     "metadata": {},
     "output_type": "execute_result"
    }
   ],
   "source": [
    "predicted"
   ]
  },
  {
   "cell_type": "code",
   "execution_count": null,
   "id": "d0c34243-c9ae-4d5e-b209-09d15e0fae50",
   "metadata": {},
   "outputs": [],
   "source": []
  }
 ],
 "metadata": {
  "kernelspec": {
   "display_name": "X-ray_CUDA",
   "language": "python",
   "name": "x-ray_cuda"
  },
  "language_info": {
   "codemirror_mode": {
    "name": "ipython",
    "version": 3
   },
   "file_extension": ".py",
   "mimetype": "text/x-python",
   "name": "python",
   "nbconvert_exporter": "python",
   "pygments_lexer": "ipython3",
   "version": "3.7.11"
  }
 },
 "nbformat": 4,
 "nbformat_minor": 5
}
