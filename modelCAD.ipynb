{
 "cells": [
  {
   "cell_type": "code",
   "execution_count": 4,
   "id": "b139dfa6-d742-4532-b6d1-bc5149118a62",
   "metadata": {},
   "outputs": [],
   "source": [
    "import os\n",
    "import pandas as pd\n",
    "import numpy as np\n",
    "import pickle\n",
    "from PIL import Image\n",
    "import matplotlib.pyplot as plt\n",
    "\n",
    "import torch\n",
    "import torch.nn as nn\n",
    "import torchvision.transforms as T\n",
    "import torch.nn.functional as F\n",
    "from torch.utils.data import Dataset, DataLoader\n",
    "import torch.optim as optim\n",
    "from torch.optim.lr_scheduler import ReduceLROnPlateau\n",
    "\n",
    "from utils.utils import *\n",
    "from utils.dataset import XRayDataset\n",
    "from utils.transform import *"
   ]
  },
  {
   "cell_type": "markdown",
   "id": "aa67ddaa-a185-4519-a498-0dde5040bc41",
   "metadata": {},
   "source": [
    "# CUDA"
   ]
  },
  {
   "cell_type": "code",
   "execution_count": 5,
   "id": "5127b6a1-00ba-4256-96c5-20684253a7ed",
   "metadata": {},
   "outputs": [
    {
     "data": {
      "text/plain": [
       "device(type='cuda')"
      ]
     },
     "execution_count": 5,
     "metadata": {},
     "output_type": "execute_result"
    }
   ],
   "source": [
    "def format_pytorch_version(version):\n",
    "    return version.split('+')[0]\n",
    "\n",
    "TORCH_version = torch.__version__\n",
    "TORCH = format_pytorch_version(TORCH_version)\n",
    "\n",
    "def format_cuda_version(version):\n",
    "    return 'cu' + version.replace('.', '')\n",
    "\n",
    "CUDA_version = torch.version.cuda\n",
    "CUDA = format_cuda_version(CUDA_version)\n",
    "\n",
    "device = torch.device('cuda' if torch.cuda.is_available() else 'cpu')\n",
    "device"
   ]
  },
  {
   "cell_type": "markdown",
   "id": "a6b8f90d-da90-41aa-886e-a08eccfbf17a",
   "metadata": {},
   "source": [
    "# Dataset and Dataloader"
   ]
  },
  {
   "cell_type": "code",
   "execution_count": 25,
   "id": "77b04dd3-9fdd-44e8-a381-772dba1a3e7a",
   "metadata": {},
   "outputs": [],
   "source": [
    "df_train = pd.read_csv('data/train_undersampling.csv')\n",
    "df_test = pd.read_csv('data/test.csv')\n",
    "df_val = pd.read_csv('data/val.csv')\n",
    "\n",
    "transform = CADTransform(r=20, var=9)\n",
    "\n",
    "train_dataset = XRayDataset(df_train, transform)\n",
    "test_dataset = XRayDataset(df_test, transform)\n",
    "\n",
    "train_dataloader = DataLoader(train_dataset, batch_size=512, shuffle=True)\n",
    "test_dataloader = DataLoader(test_dataset, batch_size=512, shuffle=True)"
   ]
  },
  {
   "cell_type": "markdown",
   "id": "53b95608-926d-4cd5-b969-2fe3e9cc8992",
   "metadata": {},
   "source": [
    "# Model"
   ]
  },
  {
   "cell_type": "code",
   "execution_count": 26,
   "id": "617e04c2-61de-4a3b-acd2-1e347f2b8d63",
   "metadata": {},
   "outputs": [],
   "source": [
    "class Net(nn.Module):\n",
    "    def __init__(self):\n",
    "        super().__init__()\n",
    "        self.conv1 = nn.Conv2d(3, 6, 5)\n",
    "        self.pool = nn.MaxPool2d(5, 5)\n",
    "        self.conv2 = nn.Conv2d(6, 16, 5)\n",
    "        self.fc1 = nn.Linear(1296, 32)\n",
    "        self.fc2 = nn.Linear(32, 16)\n",
    "        self.dropout = nn.Dropout(0.3)\n",
    "        self.fc3 = nn.Linear(16, 2)\n",
    "\n",
    "    def forward(self, x):\n",
    "        x = self.pool(F.relu(self.conv1(x)))\n",
    "        x = self.pool(F.relu(self.conv2(x)))\n",
    "        x = torch.flatten(x, 1) # flatten all dimensions except batch\n",
    "        x = F.relu(self.fc1(x))\n",
    "        x = F.relu(self.fc2(x))\n",
    "        x = self.fc3(x)\n",
    "        return x"
   ]
  },
  {
   "cell_type": "code",
   "execution_count": 27,
   "id": "adf526a7-c435-4b35-a13a-d8bb1c00b11f",
   "metadata": {},
   "outputs": [],
   "source": [
    "model = Net().to(device)\n",
    "criterion = nn.CrossEntropyLoss()\n",
    "optimizer = torch.optim.Adam(model.parameters(), lr=0.001)\n",
    "scheduler = ReduceLROnPlateau(optimizer, 'min', factor=0.3, patience=2, min_lr=0.000001)"
   ]
  },
  {
   "cell_type": "code",
   "execution_count": 28,
   "id": "237045b3-50cd-4bfb-842a-7914813436c1",
   "metadata": {},
   "outputs": [],
   "source": [
    "def train(dataloader):\n",
    "    model.train()\n",
    "    c=0\n",
    "    correct=0\n",
    "    total = 0\n",
    "    acc = 0\n",
    "\n",
    "    for i, data in enumerate(dataloader):\n",
    "        # get the inputs; data is a list of [inputs, labels]\n",
    "        inputs, labels = data[0].to(device), data[1].to(device)\n",
    "\n",
    "        # zero the parameter gradients\n",
    "        optimizer.zero_grad()\n",
    "\n",
    "        # forward + backward + optimize\n",
    "        outputs = model(inputs)\n",
    "        loss = criterion(outputs, labels)\n",
    "        loss.backward()\n",
    "        optimizer.step()\n",
    "\n",
    "        c=c+1\n",
    "        correct+=loss.cpu().detach().numpy()\n",
    "        \n",
    "        _, predicted = torch.max(outputs.data, 1)\n",
    "        total += labels.size(0)\n",
    "        acc += (predicted == labels).sum().item()\n",
    "        \n",
    "    return correct/c, acc/total\n",
    "\n",
    "def test(dataloader):\n",
    "    model.eval()\n",
    "    c=0\n",
    "    correct=0\n",
    "    total = 0\n",
    "    acc = 0\n",
    "\n",
    "    for i, data in enumerate(dataloader):\n",
    "        # get the inputs; data is a list of [inputs, labels]\n",
    "        inputs, labels = data[0].to(device), data[1].to(device)\n",
    "\n",
    "        # forward + backward + optimize\n",
    "        outputs = model(inputs)\n",
    "        loss = criterion(outputs, labels)\n",
    "\n",
    "        c=c+1\n",
    "        correct+=loss.cpu().detach().numpy()\n",
    "        \n",
    "        _, predicted = torch.max(outputs.data, 1)\n",
    "        total += labels.size(0)\n",
    "        acc += (predicted == labels).sum().item()\n",
    "    return correct/c, acc/total"
   ]
  },
  {
   "cell_type": "code",
   "execution_count": 29,
   "id": "92897835-16ad-4e4a-bfae-be78383c2cfd",
   "metadata": {},
   "outputs": [
    {
     "name": "stdout",
     "output_type": "stream",
     "text": [
      "start train\n",
      "\n",
      "Epoch: 001, Train CrossEntropy: 0.6875, Test CrossEntropy: 0.6912\n",
      "            Train Accuracy: 0.4987, Test Accuracy: 0.3814\n",
      "\n",
      "Minimum Loss: 0.6912152767181396\n",
      "Epoch: 002, Train CrossEntropy: 0.6561, Test CrossEntropy: 0.6489\n",
      "            Train Accuracy: 0.7800, Test Accuracy: 0.7420\n",
      "\n",
      "Minimum Loss: 0.6488654911518097\n",
      "Epoch: 003, Train CrossEntropy: 0.5941, Test CrossEntropy: 0.5467\n",
      "            Train Accuracy: 0.8270, Test Accuracy: 0.8365\n",
      "\n",
      "Minimum Loss: 0.5466909408569336\n",
      "Epoch: 004, Train CrossEntropy: 0.4975, Test CrossEntropy: 0.4571\n",
      "            Train Accuracy: 0.8811, Test Accuracy: 0.8205\n",
      "\n",
      "Minimum Loss: 0.45708227157592773\n",
      "Epoch: 005, Train CrossEntropy: 0.4113, Test CrossEntropy: 0.3971\n",
      "            Train Accuracy: 0.8868, Test Accuracy: 0.8429\n",
      "\n",
      "Minimum Loss: 0.3970701992511749\n",
      "Epoch: 006, Train CrossEntropy: 0.3428, Test CrossEntropy: 0.3632\n",
      "            Train Accuracy: 0.8864, Test Accuracy: 0.8526\n",
      "\n",
      "Minimum Loss: 0.3631734549999237\n",
      "Epoch: 007, Train CrossEntropy: 0.2828, Test CrossEntropy: 0.4398\n",
      "            Train Accuracy: 0.8989, Test Accuracy: 0.8029\n",
      "\n",
      "Epoch: 008, Train CrossEntropy: 0.2513, Test CrossEntropy: 0.4205\n",
      "            Train Accuracy: 0.9091, Test Accuracy: 0.8397\n",
      "\n",
      "Epoch: 009, Train CrossEntropy: 0.2007, Test CrossEntropy: 0.3376\n",
      "            Train Accuracy: 0.9258, Test Accuracy: 0.8606\n",
      "\n",
      "Minimum Loss: 0.3376130610704422\n",
      "Epoch: 010, Train CrossEntropy: 0.1945, Test CrossEntropy: 0.3646\n",
      "            Train Accuracy: 0.9296, Test Accuracy: 0.8590\n",
      "\n",
      "Epoch: 011, Train CrossEntropy: 0.2048, Test CrossEntropy: 0.4665\n",
      "            Train Accuracy: 0.9303, Test Accuracy: 0.7933\n",
      "\n",
      "Epoch: 012, Train CrossEntropy: 0.1654, Test CrossEntropy: 0.5395\n",
      "            Train Accuracy: 0.9345, Test Accuracy: 0.7917\n",
      "\n",
      "Epoch: 013, Train CrossEntropy: 0.1637, Test CrossEntropy: 0.4322\n",
      "            Train Accuracy: 0.9424, Test Accuracy: 0.8189\n",
      "\n",
      "Epoch: 014, Train CrossEntropy: 0.1609, Test CrossEntropy: 0.3897\n",
      "            Train Accuracy: 0.9432, Test Accuracy: 0.8301\n",
      "\n",
      "Epoch: 015, Train CrossEntropy: 0.1554, Test CrossEntropy: 0.4675\n",
      "            Train Accuracy: 0.9413, Test Accuracy: 0.7981\n",
      "\n",
      "Epoch: 016, Train CrossEntropy: 0.1453, Test CrossEntropy: 0.4374\n",
      "            Train Accuracy: 0.9466, Test Accuracy: 0.8125\n",
      "\n",
      "Epoch: 017, Train CrossEntropy: 0.1555, Test CrossEntropy: 0.4231\n",
      "            Train Accuracy: 0.9402, Test Accuracy: 0.8205\n",
      "\n",
      "Epoch: 018, Train CrossEntropy: 0.1634, Test CrossEntropy: 0.5121\n",
      "            Train Accuracy: 0.9455, Test Accuracy: 0.8029\n",
      "\n",
      "Epoch: 019, Train CrossEntropy: 0.1411, Test CrossEntropy: 0.4598\n",
      "            Train Accuracy: 0.9474, Test Accuracy: 0.8205\n",
      "\n",
      "Epoch: 020, Train CrossEntropy: 0.1484, Test CrossEntropy: 0.4325\n",
      "            Train Accuracy: 0.9443, Test Accuracy: 0.8157\n",
      "\n",
      "Epoch: 021, Train CrossEntropy: 0.1504, Test CrossEntropy: 0.4091\n",
      "            Train Accuracy: 0.9443, Test Accuracy: 0.8189\n",
      "\n",
      "Epoch: 022, Train CrossEntropy: 0.1465, Test CrossEntropy: 0.5031\n",
      "            Train Accuracy: 0.9470, Test Accuracy: 0.8157\n",
      "\n",
      "Epoch: 023, Train CrossEntropy: 0.1591, Test CrossEntropy: 0.4505\n",
      "            Train Accuracy: 0.9489, Test Accuracy: 0.8157\n",
      "\n",
      "Epoch: 024, Train CrossEntropy: 0.1489, Test CrossEntropy: 0.4722\n",
      "            Train Accuracy: 0.9485, Test Accuracy: 0.8157\n",
      "\n",
      "Epoch: 025, Train CrossEntropy: 0.1489, Test CrossEntropy: 0.4455\n",
      "            Train Accuracy: 0.9489, Test Accuracy: 0.8157\n",
      "\n"
     ]
    }
   ],
   "source": [
    "train_matrix = {'loss':[], 'accuracy':[]}\n",
    "test_matrix = {'loss':[], 'accuracy':[]}\n",
    "epochs = 25\n",
    "min_loss = 100\n",
    "print('start train\\n')\n",
    "\n",
    "for epoch in range(epochs):\n",
    "    train_loss, train_acc = train(train_dataloader)\n",
    "    test_loss, test_acc = test(test_dataloader)\n",
    "    train_matrix['loss'].append(train_loss)\n",
    "    train_matrix['accuracy'].append(train_acc)\n",
    "    test_matrix['loss'].append(test_loss)\n",
    "    test_matrix['accuracy'].append(test_acc)\n",
    "    scheduler.step(test_loss)\n",
    "    print(f'Epoch: {epoch+1:03d}, Train CrossEntropy: {train_loss:.4f}, Test CrossEntropy: {test_loss:.4f}')\n",
    "    print(f'            Train Accuracy: {train_acc:.4f}, Test Accuracy: {test_acc:.4f}\\n')\n",
    "    if min_loss > test_loss:\n",
    "        min_loss = test_loss\n",
    "        print('Minimum Loss: {}'.format(min_loss))\n",
    "        torch.save(model.state_dict(), \"model/CAD/best2.pt\")"
   ]
  },
  {
   "cell_type": "code",
   "execution_count": 30,
   "id": "01b6156f-a42e-449d-b395-85aa56f37c9f",
   "metadata": {},
   "outputs": [],
   "source": [
    "torch.save(model.state_dict(), 'model/CAD/last2.pt')"
   ]
  },
  {
   "cell_type": "code",
   "execution_count": 31,
   "id": "614f4e81-2068-40a3-8eeb-7459f9ca01be",
   "metadata": {},
   "outputs": [
    {
     "data": {
      "image/png": "[encoded data removed]",
      "text/plain": [
       "<Figure size 432x288 with 1 Axes>"
      ]
     },
     "metadata": {
      "needs_background": "light"
     },
     "output_type": "display_data"
    }
   ],
   "source": [
    "plt.title('accuracy')\n",
    "plt.plot(np.arange(epochs), train_matrix['accuracy'], label='train loss')\n",
    "plt.plot(np.arange(epochs), test_matrix['accuracy'], label='val loss')\n",
    "\n",
    "plt.legend()\n",
    "plt.show()"
   ]
  },
  {
   "cell_type": "code",
   "execution_count": 32,
   "id": "40dbbf23-0487-4326-b67a-1390d3d0cde7",
   "metadata": {},
   "outputs": [
    {
     "data": {
      "image/png": "[encoded data removed]",
      "text/plain": [
       "<Figure size 432x288 with 1 Axes>"
      ]
     },
     "metadata": {
      "needs_background": "light"
     },
     "output_type": "display_data"
    }
   ],
   "source": [
    "plt.title('loss')\n",
    "plt.plot(np.arange(epochs), train_matrix['loss'], label='train loss')\n",
    "plt.plot(np.arange(epochs), test_matrix['loss'], label='val loss')\n",
    "\n",
    "plt.legend()\n",
    "plt.show()"
   ]
  },
  {
   "cell_type": "markdown",
   "id": "32ba5da6-fe8b-4f94-8a4d-7ed59deeedeb",
   "metadata": {
    "tags": []
   },
   "source": [
    "# Inference"
   ]
  },
  {
   "cell_type": "code",
   "execution_count": 33,
   "id": "92e65978-0d91-4f21-bedb-d099f726ba22",
   "metadata": {},
   "outputs": [],
   "source": [
    "from sklearn.metrics import accuracy_score, confusion_matrix, f1_score, recall_score, precision_score\n",
    "import seaborn as sns"
   ]
  },
  {
   "cell_type": "code",
   "execution_count": 34,
   "id": "dc26341c-d564-4dce-9e29-2761b5bc73ba",
   "metadata": {},
   "outputs": [],
   "source": [
    "def show_confusion_matrix(y_test, y_pred):\n",
    "    cm = confusion_matrix(y_test, y_pred)\n",
    "    sns.heatmap(cm, annot=True, cmap=plt.cm.Blues, xticklabels=[\"Normal\", \"Pneumonia\"], yticklabels=[\"Normal\", \"Pneumonia\"]) # PD is Parkinson Disease\n",
    "    plt.title(\"Confusion Matrix\")\n",
    "    plt.xlabel(\"predicted label\")\n",
    "    plt.ylabel(\"true label\")"
   ]
  },
  {
   "cell_type": "code",
   "execution_count": 41,
   "id": "74f1661e-d931-4071-88a4-2a0ad1b2275b",
   "metadata": {},
   "outputs": [
    {
     "data": {
      "text/plain": [
       "Net(\n",
       "  (conv1): Conv2d(3, 6, kernel_size=(5, 5), stride=(1, 1))\n",
       "  (pool): MaxPool2d(kernel_size=5, stride=5, padding=0, dilation=1, ceil_mode=False)\n",
       "  (conv2): Conv2d(6, 16, kernel_size=(5, 5), stride=(1, 1))\n",
       "  (fc1): Linear(in_features=1296, out_features=32, bias=True)\n",
       "  (fc2): Linear(in_features=32, out_features=16, bias=True)\n",
       "  (dropout): Dropout(p=0.3, inplace=False)\n",
       "  (fc3): Linear(in_features=16, out_features=2, bias=True)\n",
       ")"
      ]
     },
     "execution_count": 41,
     "metadata": {},
     "output_type": "execute_result"
    }
   ],
   "source": [
    "model_infer = Net().to(device)\n",
    "model_infer.load_state_dict(torch.load(\"model/CAD/best2.pt\"))\n",
    "model_infer.eval()"
   ]
  },
  {
   "cell_type": "code",
   "execution_count": 42,
   "id": "b53b5eb0-381c-4b33-a8aa-ea288ef10b0c",
   "metadata": {},
   "outputs": [],
   "source": [
    "predict = []\n",
    "actual = []\n",
    "for i, data in enumerate(test_dataloader):\n",
    "    inputs, labels = data[0].to(device), data[1].to(device)\n",
    "\n",
    "    # forward + backward + optimize\n",
    "    outputs = model_infer(inputs)\n",
    "    _, predicted = torch.max(outputs.data, 1)\n",
    "    predict.append(predicted.cpu().detach().numpy())\n",
    "    actual.append(labels.cpu().detach().numpy())\n",
    "    \n",
    "predict = np.concatenate(predict)\n",
    "actual = np.concatenate(actual)"
   ]
  },
  {
   "cell_type": "code",
   "execution_count": 43,
   "id": "a4e1aa45-77e8-4fcb-88f0-a4f743c3910f",
   "metadata": {},
   "outputs": [
    {
     "name": "stdout",
     "output_type": "stream",
     "text": [
      "F1 Score: 0.8911138923654568\n",
      "Accuracy: 0.8605769230769231\n",
      "Precision: 0.8704156479217604\n",
      "Recall: 0.9128205128205128\n"
     ]
    },
    {
     "data": {
      "image/png": "[encoded data removed]",
      "text/plain": [
       "<Figure size 432x288 with 2 Axes>"
      ]
     },
     "metadata": {
      "needs_background": "light"
     },
     "output_type": "display_data"
    }
   ],
   "source": [
    "print(f\"F1 Score: {f1_score(actual, predict)}\")\n",
    "print(f\"Accuracy: {accuracy_score(actual, predict)}\")\n",
    "print(f\"Precision: {precision_score(actual, predict)}\")\n",
    "print(f\"Recall: {recall_score(actual, predict)}\")\n",
    "\n",
    "show_confusion_matrix(actual, predict)"
   ]
  },
  {
   "cell_type": "code",
   "execution_count": null,
   "id": "446e5ffe-e575-4361-bbb4-aa91e2d047d6",
   "metadata": {},
   "outputs": [],
   "source": []
  }
 ],
 "metadata": {
  "kernelspec": {
   "display_name": "X-ray_CUDA",
   "language": "python",
   "name": "x-ray_cuda"
  },
  "language_info": {
   "codemirror_mode": {
    "name": "ipython",
    "version": 3
   },
   "file_extension": ".py",
   "mimetype": "text/x-python",
   "name": "python",
   "nbconvert_exporter": "python",
   "pygments_lexer": "ipython3",
   "version": "3.7.11"
  }
 },
 "nbformat": 4,
 "nbformat_minor": 5
}
