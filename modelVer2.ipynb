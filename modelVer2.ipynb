{
 "cells": [
  {
   "cell_type": "code",
   "execution_count": 1,
   "id": "b139dfa6-d742-4532-b6d1-bc5149118a62",
   "metadata": {},
   "outputs": [],
   "source": [
    "import os\n",
    "import pandas as pd\n",
    "import numpy as np\n",
    "import pickle\n",
    "from PIL import Image\n",
    "import matplotlib.pyplot as plt\n",
    "\n",
    "import torch\n",
    "import torch.nn as nn\n",
    "import torchvision.transforms as T\n",
    "import torch.nn.functional as F\n",
    "from torch.utils.data import Dataset, DataLoader\n",
    "import torch.optim as optim\n",
    "from torch.optim.lr_scheduler import ReduceLROnPlateau\n",
    "\n",
    "from utils.utils import *\n",
    "from utils.dataset import XRayDataset"
   ]
  },
  {
   "cell_type": "markdown",
   "id": "aa67ddaa-a185-4519-a498-0dde5040bc41",
   "metadata": {},
   "source": [
    "# CUDA"
   ]
  },
  {
   "cell_type": "code",
   "execution_count": 2,
   "id": "5127b6a1-00ba-4256-96c5-20684253a7ed",
   "metadata": {},
   "outputs": [
    {
     "data": {
      "text/plain": [
       "device(type='cuda')"
      ]
     },
     "execution_count": 2,
     "metadata": {},
     "output_type": "execute_result"
    }
   ],
   "source": [
    "def format_pytorch_version(version):\n",
    "    return version.split('+')[0]\n",
    "\n",
    "TORCH_version = torch.__version__\n",
    "TORCH = format_pytorch_version(TORCH_version)\n",
    "\n",
    "def format_cuda_version(version):\n",
    "    return 'cu' + version.replace('.', '')\n",
    "\n",
    "CUDA_version = torch.version.cuda\n",
    "CUDA = format_cuda_version(CUDA_version)\n",
    "\n",
    "device = torch.device('cuda' if torch.cuda.is_available() else 'cpu')\n",
    "device"
   ]
  },
  {
   "cell_type": "markdown",
   "id": "a6b8f90d-da90-41aa-886e-a08eccfbf17a",
   "metadata": {},
   "source": [
    "# Dataset and Dataloader"
   ]
  },
  {
   "cell_type": "code",
   "execution_count": 4,
   "id": "77b04dd3-9fdd-44e8-a381-772dba1a3e7a",
   "metadata": {},
   "outputs": [],
   "source": [
    "df_train = pd.read_csv('data/train_undersampling.csv')\n",
    "df_test = pd.read_csv('data/test.csv')\n",
    "df_val = pd.read_csv('data/val.csv')\n",
    "\n",
    "transform = T.Compose([\n",
    "    T.Resize(256),\n",
    "    T.ToTensor(),\n",
    "])\n",
    "\n",
    "train_dataset = XRayDataset(df_train, transform)\n",
    "test_dataset = XRayDataset(df_test, transform)\n",
    "\n",
    "train_dataloader = DataLoader(train_dataset, batch_size=1024, shuffle=True)\n",
    "test_dataloader = DataLoader(test_dataset, batch_size=1024, shuffle=True)"
   ]
  },
  {
   "cell_type": "markdown",
   "id": "53b95608-926d-4cd5-b969-2fe3e9cc8992",
   "metadata": {},
   "source": [
    "# Model"
   ]
  },
  {
   "cell_type": "code",
   "execution_count": 9,
   "id": "617e04c2-61de-4a3b-acd2-1e347f2b8d63",
   "metadata": {},
   "outputs": [],
   "source": [
    "class Net(nn.Module):\n",
    "    def __init__(self):\n",
    "        super().__init__()\n",
    "        self.conv1 = nn.Conv2d(1, 6, 5)\n",
    "        self.pool = nn.MaxPool2d(5, 5)\n",
    "        self.conv2 = nn.Conv2d(6, 16, 5)\n",
    "        self.fc1 = nn.Linear(1296, 32)\n",
    "        self.dropout1 = nn.Dropout(0.7)\n",
    "        self.fc2 = nn.Linear(32, 16)\n",
    "        self.dropout2 = nn.Dropout(0.7)\n",
    "        self.fc3 = nn.Linear(16, 2)\n",
    "\n",
    "    def forward(self, x):\n",
    "        x = self.pool(F.relu(self.conv1(x)))\n",
    "        x = self.pool(F.relu(self.conv2(x)))\n",
    "        x = torch.flatten(x, 1) # flatten all dimensions except batch\n",
    "        x = F.relu(self.fc1(x))\n",
    "        x = F.relu(self.fc2(x))\n",
    "        x = self.fc3(x)\n",
    "        return x"
   ]
  },
  {
   "cell_type": "code",
   "execution_count": 10,
   "id": "adf526a7-c435-4b35-a13a-d8bb1c00b11f",
   "metadata": {},
   "outputs": [],
   "source": [
    "model = Net().to(device)\n",
    "criterion = nn.CrossEntropyLoss()\n",
    "optimizer = torch.optim.Adam(model.parameters(), lr=0.001)\n",
    "scheduler = ReduceLROnPlateau(optimizer, 'min', factor=0.3, patience=2, min_lr=0.000001)"
   ]
  },
  {
   "cell_type": "code",
   "execution_count": 11,
   "id": "237045b3-50cd-4bfb-842a-7914813436c1",
   "metadata": {},
   "outputs": [],
   "source": [
    "def train(dataloader):\n",
    "    model.train()\n",
    "    c=0\n",
    "    correct=0\n",
    "    total = 0\n",
    "    acc = 0\n",
    "\n",
    "    for i, data in enumerate(dataloader):\n",
    "        # get the inputs; data is a list of [inputs, labels]\n",
    "        inputs, labels = data[0].to(device), data[1].to(device)\n",
    "\n",
    "        # zero the parameter gradients\n",
    "        optimizer.zero_grad()\n",
    "\n",
    "        # forward + backward + optimize\n",
    "        outputs = model(inputs)\n",
    "        loss = criterion(outputs, labels)\n",
    "        loss.backward()\n",
    "        optimizer.step()\n",
    "\n",
    "        c=c+1\n",
    "        correct+=loss.cpu().detach().numpy()\n",
    "        \n",
    "        _, predicted = torch.max(outputs.data, 1)\n",
    "        total += labels.size(0)\n",
    "        acc += (predicted == labels).sum().item()\n",
    "        \n",
    "    return correct/c, acc/total\n",
    "\n",
    "def test(dataloader):\n",
    "    model.eval()\n",
    "    c=0\n",
    "    correct=0\n",
    "    total = 0\n",
    "    acc = 0\n",
    "\n",
    "    for i, data in enumerate(dataloader):\n",
    "        # get the inputs; data is a list of [inputs, labels]\n",
    "        inputs, labels = data[0].to(device), data[1].to(device)\n",
    "\n",
    "        # forward + backward + optimize\n",
    "        outputs = model(inputs)\n",
    "        loss = criterion(outputs, labels)\n",
    "\n",
    "        c=c+1\n",
    "        correct+=loss.cpu().detach().numpy()\n",
    "        \n",
    "        _, predicted = torch.max(outputs.data, 1)\n",
    "        total += labels.size(0)\n",
    "        acc += (predicted == labels).sum().item()\n",
    "    return correct/c, acc/total"
   ]
  },
  {
   "cell_type": "code",
   "execution_count": 12,
   "id": "92897835-16ad-4e4a-bfae-be78383c2cfd",
   "metadata": {},
   "outputs": [
    {
     "name": "stdout",
     "output_type": "stream",
     "text": [
      "start train\n",
      "\n",
      "Epoch: 001, Train CrossEntropy: 0.6893, Test CrossEntropy: 0.6946\n",
      "            Train Accuracy: 0.5078, Test Accuracy: 0.3750\n",
      "\n",
      "Epoch: 002, Train CrossEntropy: 0.6723, Test CrossEntropy: 0.6814\n",
      "            Train Accuracy: 0.5240, Test Accuracy: 0.5192\n",
      "\n",
      "Epoch: 003, Train CrossEntropy: 0.6430, Test CrossEntropy: 0.6612\n",
      "            Train Accuracy: 0.6903, Test Accuracy: 0.6250\n",
      "\n",
      "Epoch: 004, Train CrossEntropy: 0.5908, Test CrossEntropy: 0.6242\n",
      "            Train Accuracy: 0.7846, Test Accuracy: 0.7420\n",
      "\n",
      "Epoch: 005, Train CrossEntropy: 0.5157, Test CrossEntropy: 0.5752\n",
      "            Train Accuracy: 0.8557, Test Accuracy: 0.7596\n",
      "\n",
      "Epoch: 006, Train CrossEntropy: 0.4278, Test CrossEntropy: 0.4956\n",
      "            Train Accuracy: 0.8675, Test Accuracy: 0.7965\n",
      "\n",
      "Epoch: 007, Train CrossEntropy: 0.3735, Test CrossEntropy: 0.5237\n",
      "            Train Accuracy: 0.8618, Test Accuracy: 0.7933\n",
      "\n",
      "Epoch: 008, Train CrossEntropy: 0.3270, Test CrossEntropy: 0.4626\n",
      "            Train Accuracy: 0.8845, Test Accuracy: 0.8077\n",
      "\n",
      "Epoch: 009, Train CrossEntropy: 0.2847, Test CrossEntropy: 0.4202\n",
      "            Train Accuracy: 0.9000, Test Accuracy: 0.8093\n",
      "\n",
      "Epoch: 010, Train CrossEntropy: 0.2593, Test CrossEntropy: 0.3854\n",
      "            Train Accuracy: 0.9133, Test Accuracy: 0.8269\n",
      "\n",
      "Epoch: 011, Train CrossEntropy: 0.2459, Test CrossEntropy: 0.3838\n",
      "            Train Accuracy: 0.9129, Test Accuracy: 0.8494\n",
      "\n",
      "Epoch: 012, Train CrossEntropy: 0.2177, Test CrossEntropy: 0.4087\n",
      "            Train Accuracy: 0.9269, Test Accuracy: 0.8045\n",
      "\n",
      "Epoch: 013, Train CrossEntropy: 0.2094, Test CrossEntropy: 0.3847\n",
      "            Train Accuracy: 0.9318, Test Accuracy: 0.8429\n",
      "\n",
      "Epoch: 014, Train CrossEntropy: 0.1874, Test CrossEntropy: 0.4161\n",
      "            Train Accuracy: 0.9390, Test Accuracy: 0.8349\n",
      "\n",
      "Epoch: 015, Train CrossEntropy: 0.1761, Test CrossEntropy: 0.3630\n",
      "            Train Accuracy: 0.9409, Test Accuracy: 0.8269\n",
      "\n",
      "Epoch: 016, Train CrossEntropy: 0.1807, Test CrossEntropy: 0.3395\n",
      "            Train Accuracy: 0.9428, Test Accuracy: 0.8894\n",
      "\n",
      "Epoch: 017, Train CrossEntropy: 0.1733, Test CrossEntropy: 0.3943\n",
      "            Train Accuracy: 0.9390, Test Accuracy: 0.8189\n",
      "\n",
      "Epoch: 018, Train CrossEntropy: 0.1714, Test CrossEntropy: 0.3981\n",
      "            Train Accuracy: 0.9432, Test Accuracy: 0.8542\n",
      "\n",
      "Epoch: 019, Train CrossEntropy: 0.1607, Test CrossEntropy: 0.3203\n",
      "            Train Accuracy: 0.9447, Test Accuracy: 0.8766\n",
      "\n",
      "Epoch: 020, Train CrossEntropy: 0.1598, Test CrossEntropy: 0.3603\n",
      "            Train Accuracy: 0.9402, Test Accuracy: 0.8189\n",
      "\n",
      "Epoch: 021, Train CrossEntropy: 0.1639, Test CrossEntropy: 0.3302\n",
      "            Train Accuracy: 0.9451, Test Accuracy: 0.8782\n",
      "\n",
      "Epoch: 022, Train CrossEntropy: 0.1649, Test CrossEntropy: 0.3771\n",
      "            Train Accuracy: 0.9462, Test Accuracy: 0.8429\n",
      "\n",
      "Epoch: 023, Train CrossEntropy: 0.1509, Test CrossEntropy: 0.3105\n",
      "            Train Accuracy: 0.9470, Test Accuracy: 0.8542\n",
      "\n",
      "Epoch: 024, Train CrossEntropy: 0.1531, Test CrossEntropy: 0.3544\n",
      "            Train Accuracy: 0.9451, Test Accuracy: 0.8413\n",
      "\n",
      "Epoch: 025, Train CrossEntropy: 0.1538, Test CrossEntropy: 0.3659\n",
      "            Train Accuracy: 0.9474, Test Accuracy: 0.8494\n",
      "\n"
     ]
    }
   ],
   "source": [
    "train_matrix = {'loss':[], 'accuracy':[]}\n",
    "test_matrix = {'loss':[], 'accuracy':[]}\n",
    "epochs = 25\n",
    "min_loss = 100\n",
    "print('start train\\n')\n",
    "\n",
    "for epoch in range(epochs):\n",
    "    train_loss, train_acc = train(train_dataloader)\n",
    "    test_loss, test_acc = test(test_dataloader)\n",
    "    train_matrix['loss'].append(train_loss)\n",
    "    train_matrix['accuracy'].append(train_acc)\n",
    "    test_matrix['loss'].append(test_loss)\n",
    "    test_matrix['accuracy'].append(test_acc)\n",
    "    scheduler.step(test_loss)\n",
    "    print(f'Epoch: {epoch+1:03d}, Train CrossEntropy: {train_loss:.4f}, Test CrossEntropy: {test_loss:.4f}')\n",
    "    print(f'            Train Accuracy: {train_acc:.4f}, Test Accuracy: {test_acc:.4f}\\n')"
   ]
  },
  {
   "cell_type": "code",
   "execution_count": 17,
   "id": "01b6156f-a42e-449d-b395-85aa56f37c9f",
   "metadata": {},
   "outputs": [],
   "source": [
    "torch.save(model.state_dict(), 'model/ver2/last.pt')"
   ]
  },
  {
   "cell_type": "code",
   "execution_count": 15,
   "id": "614f4e81-2068-40a3-8eeb-7459f9ca01be",
   "metadata": {},
   "outputs": [
    {
     "data": {
      "image/png": "[encoded data removed]",
      "text/plain": [
       "<Figure size 432x288 with 1 Axes>"
      ]
     },
     "metadata": {
      "needs_background": "light"
     },
     "output_type": "display_data"
    }
   ],
   "source": [
    "plt.title('accuracy')\n",
    "plt.plot(np.arange(epochs), train_matrix['accuracy'], label='train loss')\n",
    "plt.plot(np.arange(epochs), test_matrix['accuracy'], label='val loss')\n",
    "\n",
    "plt.legend()\n",
    "plt.show()"
   ]
  },
  {
   "cell_type": "code",
   "execution_count": 16,
   "id": "40dbbf23-0487-4326-b67a-1390d3d0cde7",
   "metadata": {},
   "outputs": [
    {
     "data": {
      "image/png": "[encoded data removed]",
      "text/plain": [
       "<Figure size 432x288 with 1 Axes>"
      ]
     },
     "metadata": {
      "needs_background": "light"
     },
     "output_type": "display_data"
    }
   ],
   "source": [
    "plt.title('loss')\n",
    "plt.plot(np.arange(epochs), train_matrix['loss'], label='train loss')\n",
    "plt.plot(np.arange(epochs), test_matrix['loss'], label='val loss')\n",
    "\n",
    "plt.legend()\n",
    "plt.show()"
   ]
  },
  {
   "cell_type": "code",
   "execution_count": 54,
   "id": "e8306c2c-b8de-4aef-ac35-a2e7c0e4abaa",
   "metadata": {},
   "outputs": [],
   "source": [
    "for i, data in enumerate(test_dataloader):\n",
    "    # get the inputs; data is a list of [inputs, labels]\n",
    "    inputs, labels = data[0].to(device), data[1].to(device)\n",
    "\n",
    "    # forward + backward + optimize\n",
    "    outputs = model(inputs)\n",
    "    _, predicted = torch.max(outputs.data, 1)\n",
    "#     break"
   ]
  },
  {
   "cell_type": "code",
   "execution_count": 55,
   "id": "a2f64c1b-6e00-4fbc-9bb9-297ea7673bda",
   "metadata": {},
   "outputs": [
    {
     "data": {
      "text/plain": [
       "tensor([1, 1, 0, 0, 1, 1, 1, 1, 1, 1, 1, 1, 1, 1, 1, 1, 1, 1, 0, 1, 1, 1, 0, 1,\n",
       "        1, 1, 0, 1, 1, 1, 1, 1, 1, 1, 1, 0, 0, 0, 1, 1, 1, 1, 0, 0, 1, 0, 0, 1,\n",
       "        1, 1, 1, 1, 1, 1, 1, 1, 0, 1, 1, 1, 1, 1, 1, 1, 1, 1, 1, 1, 1, 1, 1, 1,\n",
       "        1, 0, 1, 1, 1, 0, 0, 1, 1, 1, 1, 1, 1, 1, 1, 0, 1, 1, 0, 0, 1, 1, 1, 1,\n",
       "        1, 1, 1, 1, 1, 1, 0, 1, 1, 0, 1, 1, 1, 1, 0, 1], device='cuda:0')"
      ]
     },
     "execution_count": 55,
     "metadata": {},
     "output_type": "execute_result"
    }
   ],
   "source": [
    "predicted"
   ]
  },
  {
   "cell_type": "code",
   "execution_count": null,
   "id": "d0c34243-c9ae-4d5e-b209-09d15e0fae50",
   "metadata": {},
   "outputs": [],
   "source": []
  }
 ],
 "metadata": {
  "kernelspec": {
   "display_name": "X-ray_CUDA",
   "language": "python",
   "name": "x-ray_cuda"
  },
  "language_info": {
   "codemirror_mode": {
    "name": "ipython",
    "version": 3
   },
   "file_extension": ".py",
   "mimetype": "text/x-python",
   "name": "python",
   "nbconvert_exporter": "python",
   "pygments_lexer": "ipython3",
   "version": "3.7.11"
  }
 },
 "nbformat": 4,
 "nbformat_minor": 5
}
