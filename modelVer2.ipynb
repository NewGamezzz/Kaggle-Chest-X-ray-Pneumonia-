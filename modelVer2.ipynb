{
 "cells": [
  {
   "cell_type": "code",
   "execution_count": 1,
   "id": "b139dfa6-d742-4532-b6d1-bc5149118a62",
   "metadata": {},
   "outputs": [],
   "source": [
    "import os\n",
    "import pandas as pd\n",
    "import numpy as np\n",
    "import pickle\n",
    "from PIL import Image\n",
    "import matplotlib.pyplot as plt\n",
    "\n",
    "import torch\n",
    "import torch.nn as nn\n",
    "import torchvision.transforms as T\n",
    "import torch.nn.functional as F\n",
    "from torch.utils.data import Dataset, DataLoader\n",
    "import torch.optim as optim\n",
    "from torch.optim.lr_scheduler import ReduceLROnPlateau\n",
    "\n",
    "from utils.utils import *\n",
    "from utils.dataset import XRayDataset"
   ]
  },
  {
   "cell_type": "markdown",
   "id": "aa67ddaa-a185-4519-a498-0dde5040bc41",
   "metadata": {},
   "source": [
    "# CUDA"
   ]
  },
  {
   "cell_type": "code",
   "execution_count": 2,
   "id": "5127b6a1-00ba-4256-96c5-20684253a7ed",
   "metadata": {},
   "outputs": [
    {
     "data": {
      "text/plain": [
       "device(type='cuda')"
      ]
     },
     "execution_count": 2,
     "metadata": {},
     "output_type": "execute_result"
    }
   ],
   "source": [
    "def format_pytorch_version(version):\n",
    "    return version.split('+')[0]\n",
    "\n",
    "TORCH_version = torch.__version__\n",
    "TORCH = format_pytorch_version(TORCH_version)\n",
    "\n",
    "def format_cuda_version(version):\n",
    "    return 'cu' + version.replace('.', '')\n",
    "\n",
    "CUDA_version = torch.version.cuda\n",
    "CUDA = format_cuda_version(CUDA_version)\n",
    "\n",
    "device = torch.device('cuda' if torch.cuda.is_available() else 'cpu')\n",
    "device"
   ]
  },
  {
   "cell_type": "markdown",
   "id": "a6b8f90d-da90-41aa-886e-a08eccfbf17a",
   "metadata": {},
   "source": [
    "# Dataset and Dataloader"
   ]
  },
  {
   "cell_type": "code",
   "execution_count": 5,
   "id": "77b04dd3-9fdd-44e8-a381-772dba1a3e7a",
   "metadata": {},
   "outputs": [],
   "source": [
    "df_train = pd.read_csv('data/train_undersampling.csv')\n",
    "df_test = pd.read_csv('data/test.csv')\n",
    "df_val = pd.read_csv('data/val.csv')\n",
    "\n",
    "transform = T.Compose([\n",
    "    T.Resize(256),\n",
    "    T.ToTensor(),\n",
    "])\n",
    "\n",
    "train_dataset = XRayDataset(df_train, transform)\n",
    "test_dataset = XRayDataset(df_test, transform)\n",
    "\n",
    "train_dataloader = DataLoader(train_dataset, batch_size=512, shuffle=True)\n",
    "test_dataloader = DataLoader(test_dataset, batch_size=512, shuffle=True)"
   ]
  },
  {
   "cell_type": "markdown",
   "id": "53b95608-926d-4cd5-b969-2fe3e9cc8992",
   "metadata": {},
   "source": [
    "# Model"
   ]
  },
  {
   "cell_type": "code",
   "execution_count": 78,
   "id": "617e04c2-61de-4a3b-acd2-1e347f2b8d63",
   "metadata": {},
   "outputs": [],
   "source": [
    "class Net(nn.Module):\n",
    "    def __init__(self):\n",
    "        super().__init__()\n",
    "        self.conv1 = nn.Conv2d(1, 6, 5)\n",
    "        self.pool = nn.MaxPool2d(5, 5)\n",
    "        self.conv2 = nn.Conv2d(6, 16, 5)\n",
    "        self.fc1 = nn.Linear(1296, 32)\n",
    "        self.fc2 = nn.Linear(32, 16)\n",
    "        self.dropout = nn.Dropout(0.3)\n",
    "        self.fc3 = nn.Linear(16, 2)\n",
    "\n",
    "    def forward(self, x):\n",
    "        x = self.pool(F.relu(self.conv1(x)))\n",
    "        x = self.pool(F.relu(self.conv2(x)))\n",
    "        x = torch.flatten(x, 1) # flatten all dimensions except batch\n",
    "        x = F.relu(self.fc1(x))\n",
    "        x = F.relu(self.fc2(x))\n",
    "        x = self.fc3(x)\n",
    "        return x"
   ]
  },
  {
   "cell_type": "code",
   "execution_count": 79,
   "id": "adf526a7-c435-4b35-a13a-d8bb1c00b11f",
   "metadata": {},
   "outputs": [],
   "source": [
    "model = Net().to(device)\n",
    "criterion = nn.CrossEntropyLoss()\n",
    "optimizer = torch.optim.Adam(model.parameters(), lr=0.001)\n",
    "scheduler = ReduceLROnPlateau(optimizer, 'min', factor=0.3, patience=2, min_lr=0.000001)"
   ]
  },
  {
   "cell_type": "code",
   "execution_count": 80,
   "id": "237045b3-50cd-4bfb-842a-7914813436c1",
   "metadata": {},
   "outputs": [],
   "source": [
    "def train(dataloader):\n",
    "    model.train()\n",
    "    c=0\n",
    "    correct=0\n",
    "    total = 0\n",
    "    acc = 0\n",
    "\n",
    "    for i, data in enumerate(dataloader):\n",
    "        # get the inputs; data is a list of [inputs, labels]\n",
    "        inputs, labels = data[0].to(device), data[1].to(device)\n",
    "\n",
    "        # zero the parameter gradients\n",
    "        optimizer.zero_grad()\n",
    "\n",
    "        # forward + backward + optimize\n",
    "        outputs = model(inputs)\n",
    "        loss = criterion(outputs, labels)\n",
    "        loss.backward()\n",
    "        optimizer.step()\n",
    "\n",
    "        c=c+1\n",
    "        correct+=loss.cpu().detach().numpy()\n",
    "        \n",
    "        _, predicted = torch.max(outputs.data, 1)\n",
    "        total += labels.size(0)\n",
    "        acc += (predicted == labels).sum().item()\n",
    "        \n",
    "    return correct/c, acc/total\n",
    "\n",
    "def test(dataloader):\n",
    "    model.eval()\n",
    "    c=0\n",
    "    correct=0\n",
    "    total = 0\n",
    "    acc = 0\n",
    "\n",
    "    for i, data in enumerate(dataloader):\n",
    "        # get the inputs; data is a list of [inputs, labels]\n",
    "        inputs, labels = data[0].to(device), data[1].to(device)\n",
    "\n",
    "        # forward + backward + optimize\n",
    "        outputs = model(inputs)\n",
    "        loss = criterion(outputs, labels)\n",
    "\n",
    "        c=c+1\n",
    "        correct+=loss.cpu().detach().numpy()\n",
    "        \n",
    "        _, predicted = torch.max(outputs.data, 1)\n",
    "        total += labels.size(0)\n",
    "        acc += (predicted == labels).sum().item()\n",
    "    return correct/c, acc/total"
   ]
  },
  {
   "cell_type": "code",
   "execution_count": 81,
   "id": "92897835-16ad-4e4a-bfae-be78383c2cfd",
   "metadata": {},
   "outputs": [
    {
     "name": "stdout",
     "output_type": "stream",
     "text": [
      "start train\n",
      "\n",
      "Epoch: 001, Train CrossEntropy: 0.6918, Test CrossEntropy: 0.6968\n",
      "            Train Accuracy: 0.5119, Test Accuracy: 0.3766\n",
      "\n",
      "Minimum Loss: 0.6967616975307465\n",
      "Epoch: 002, Train CrossEntropy: 0.6738, Test CrossEntropy: 0.6804\n",
      "            Train Accuracy: 0.5275, Test Accuracy: 0.5353\n",
      "\n",
      "Minimum Loss: 0.6804181933403015\n",
      "Epoch: 003, Train CrossEntropy: 0.6512, Test CrossEntropy: 0.6818\n",
      "            Train Accuracy: 0.6013, Test Accuracy: 0.4054\n",
      "\n",
      "Epoch: 004, Train CrossEntropy: 0.6195, Test CrossEntropy: 0.6375\n",
      "            Train Accuracy: 0.6437, Test Accuracy: 0.7981\n",
      "\n",
      "Minimum Loss: 0.6375107765197754\n",
      "Epoch: 005, Train CrossEntropy: 0.5627, Test CrossEntropy: 0.5948\n",
      "            Train Accuracy: 0.8152, Test Accuracy: 0.7708\n",
      "\n",
      "Minimum Loss: 0.5948150157928467\n",
      "Epoch: 006, Train CrossEntropy: 0.4975, Test CrossEntropy: 0.5559\n",
      "            Train Accuracy: 0.8626, Test Accuracy: 0.8125\n",
      "\n",
      "Minimum Loss: 0.5559175908565521\n",
      "Epoch: 007, Train CrossEntropy: 0.4338, Test CrossEntropy: 0.5155\n",
      "            Train Accuracy: 0.8773, Test Accuracy: 0.8157\n",
      "\n",
      "Minimum Loss: 0.515479326248169\n",
      "Epoch: 008, Train CrossEntropy: 0.3583, Test CrossEntropy: 0.4191\n",
      "            Train Accuracy: 0.8989, Test Accuracy: 0.8510\n",
      "\n",
      "Minimum Loss: 0.4190630316734314\n",
      "Epoch: 009, Train CrossEntropy: 0.2753, Test CrossEntropy: 0.4197\n",
      "            Train Accuracy: 0.9163, Test Accuracy: 0.8413\n",
      "\n",
      "Epoch: 010, Train CrossEntropy: 0.2220, Test CrossEntropy: 0.3604\n",
      "            Train Accuracy: 0.9262, Test Accuracy: 0.8654\n",
      "\n",
      "Minimum Loss: 0.36040329933166504\n",
      "Epoch: 011, Train CrossEntropy: 0.2146, Test CrossEntropy: 0.4589\n",
      "            Train Accuracy: 0.9228, Test Accuracy: 0.8045\n",
      "\n",
      "Epoch: 012, Train CrossEntropy: 0.2006, Test CrossEntropy: 0.3991\n",
      "            Train Accuracy: 0.9273, Test Accuracy: 0.8381\n",
      "\n",
      "Epoch: 013, Train CrossEntropy: 0.1740, Test CrossEntropy: 0.3341\n",
      "            Train Accuracy: 0.9364, Test Accuracy: 0.8734\n",
      "\n",
      "Minimum Loss: 0.33413276076316833\n",
      "Epoch: 014, Train CrossEntropy: 0.1748, Test CrossEntropy: 0.3856\n",
      "            Train Accuracy: 0.9443, Test Accuracy: 0.8365\n",
      "\n",
      "Epoch: 015, Train CrossEntropy: 0.1504, Test CrossEntropy: 0.3688\n",
      "            Train Accuracy: 0.9466, Test Accuracy: 0.8381\n",
      "\n",
      "Epoch: 016, Train CrossEntropy: 0.1412, Test CrossEntropy: 0.3987\n",
      "            Train Accuracy: 0.9470, Test Accuracy: 0.8494\n",
      "\n",
      "Epoch: 017, Train CrossEntropy: 0.1398, Test CrossEntropy: 0.4597\n",
      "            Train Accuracy: 0.9474, Test Accuracy: 0.8013\n",
      "\n",
      "Epoch: 018, Train CrossEntropy: 0.1319, Test CrossEntropy: 0.3549\n",
      "            Train Accuracy: 0.9500, Test Accuracy: 0.8590\n",
      "\n",
      "Epoch: 019, Train CrossEntropy: 0.1413, Test CrossEntropy: 0.5431\n",
      "            Train Accuracy: 0.9481, Test Accuracy: 0.7997\n",
      "\n",
      "Epoch: 020, Train CrossEntropy: 0.1336, Test CrossEntropy: 0.3510\n",
      "            Train Accuracy: 0.9527, Test Accuracy: 0.8285\n",
      "\n",
      "Epoch: 021, Train CrossEntropy: 0.1237, Test CrossEntropy: 0.3218\n",
      "            Train Accuracy: 0.9508, Test Accuracy: 0.8413\n",
      "\n",
      "Minimum Loss: 0.32178401201963425\n",
      "Epoch: 022, Train CrossEntropy: 0.1310, Test CrossEntropy: 0.4337\n",
      "            Train Accuracy: 0.9512, Test Accuracy: 0.8173\n",
      "\n",
      "Epoch: 023, Train CrossEntropy: 0.1357, Test CrossEntropy: 0.4006\n",
      "            Train Accuracy: 0.9515, Test Accuracy: 0.8141\n",
      "\n",
      "Epoch: 024, Train CrossEntropy: 0.1289, Test CrossEntropy: 0.3803\n",
      "            Train Accuracy: 0.9530, Test Accuracy: 0.8285\n",
      "\n",
      "Epoch: 025, Train CrossEntropy: 0.1273, Test CrossEntropy: 0.3894\n",
      "            Train Accuracy: 0.9523, Test Accuracy: 0.8269\n",
      "\n"
     ]
    }
   ],
   "source": [
    "train_matrix = {'loss':[], 'accuracy':[]}\n",
    "test_matrix = {'loss':[], 'accuracy':[]}\n",
    "epochs = 25\n",
    "min_loss = 100\n",
    "print('start train\\n')\n",
    "\n",
    "for epoch in range(epochs):\n",
    "    train_loss, train_acc = train(train_dataloader)\n",
    "    test_loss, test_acc = test(test_dataloader)\n",
    "    train_matrix['loss'].append(train_loss)\n",
    "    train_matrix['accuracy'].append(train_acc)\n",
    "    test_matrix['loss'].append(test_loss)\n",
    "    test_matrix['accuracy'].append(test_acc)\n",
    "    scheduler.step(test_loss)\n",
    "    print(f'Epoch: {epoch+1:03d}, Train CrossEntropy: {train_loss:.4f}, Test CrossEntropy: {test_loss:.4f}')\n",
    "    print(f'            Train Accuracy: {train_acc:.4f}, Test Accuracy: {test_acc:.4f}\\n')\n",
    "    if min_loss > test_loss:\n",
    "        min_loss = test_loss\n",
    "        print('Minimum Loss: {}'.format(min_loss))\n",
    "        torch.save(model.state_dict(), \"model/ver2/best3.pt\")"
   ]
  },
  {
   "cell_type": "code",
   "execution_count": 83,
   "id": "01b6156f-a42e-449d-b395-85aa56f37c9f",
   "metadata": {},
   "outputs": [],
   "source": [
    "torch.save(model.state_dict(), 'model/ver2/last3.pt')"
   ]
  },
  {
   "cell_type": "code",
   "execution_count": 84,
   "id": "614f4e81-2068-40a3-8eeb-7459f9ca01be",
   "metadata": {},
   "outputs": [
    {
     "data": {
      "image/png": "[encoded data removed]",
      "text/plain": [
       "<Figure size 432x288 with 1 Axes>"
      ]
     },
     "metadata": {
      "needs_background": "light"
     },
     "output_type": "display_data"
    }
   ],
   "source": [
    "plt.title('accuracy')\n",
    "plt.plot(np.arange(epochs), train_matrix['accuracy'], label='train loss')\n",
    "plt.plot(np.arange(epochs), test_matrix['accuracy'], label='val loss')\n",
    "\n",
    "plt.legend()\n",
    "plt.show()"
   ]
  },
  {
   "cell_type": "code",
   "execution_count": 85,
   "id": "40dbbf23-0487-4326-b67a-1390d3d0cde7",
   "metadata": {},
   "outputs": [
    {
     "data": {
      "image/png": "[encoded data removed]",
      "text/plain": [
       "<Figure size 432x288 with 1 Axes>"
      ]
     },
     "metadata": {
      "needs_background": "light"
     },
     "output_type": "display_data"
    }
   ],
   "source": [
    "plt.title('loss')\n",
    "plt.plot(np.arange(epochs), train_matrix['loss'], label='train loss')\n",
    "plt.plot(np.arange(epochs), test_matrix['loss'], label='val loss')\n",
    "\n",
    "plt.legend()\n",
    "plt.show()"
   ]
  },
  {
   "cell_type": "code",
   "execution_count": 86,
   "id": "c6b4049b-82e6-4d67-8618-63d8eba4c843",
   "metadata": {},
   "outputs": [],
   "source": [
    "pickle.dump(train_matrix, open(\"model/ver2/train_matrix3.pkl\", \"wb\"))\n",
    "pickle.dump(test_matrix, open(\"model/ver2/test_matrix3.pkl\", \"wb\"))"
   ]
  },
  {
   "cell_type": "markdown",
   "id": "42d78aa7-b44d-4e3c-9648-1dd1e6ccb36c",
   "metadata": {
    "tags": []
   },
   "source": [
    "# Inference"
   ]
  },
  {
   "cell_type": "code",
   "execution_count": 92,
   "id": "8ba90e0f-e5de-4639-b3b6-484379f35426",
   "metadata": {},
   "outputs": [],
   "source": [
    "from sklearn.metrics import accuracy_score, confusion_matrix, f1_score, recall_score, precision_score\n",
    "import seaborn as sns"
   ]
  },
  {
   "cell_type": "code",
   "execution_count": 93,
   "id": "cc0238a8-f565-44c6-9c97-300b6061d878",
   "metadata": {},
   "outputs": [],
   "source": [
    "def show_confusion_matrix(y_test, y_pred):\n",
    "    cm = confusion_matrix(y_test, y_pred)\n",
    "    sns.heatmap(cm, annot=True, cmap=plt.cm.Blues, xticklabels=[\"Normal\", \"Pneumonia\"], yticklabels=[\"Normal\", \"Pneumonia\"]) # PD is Parkinson Disease\n",
    "    plt.title(\"Confusion Matrix\")\n",
    "    plt.xlabel(\"predicted label\")\n",
    "    plt.ylabel(\"true label\")"
   ]
  },
  {
   "cell_type": "code",
   "execution_count": 97,
   "id": "8b80ff41-2575-4c6e-8e6d-5b56a7992a5f",
   "metadata": {},
   "outputs": [
    {
     "data": {
      "text/plain": [
       "Net(\n",
       "  (conv1): Conv2d(1, 6, kernel_size=(5, 5), stride=(1, 1))\n",
       "  (pool): MaxPool2d(kernel_size=5, stride=5, padding=0, dilation=1, ceil_mode=False)\n",
       "  (conv2): Conv2d(6, 16, kernel_size=(5, 5), stride=(1, 1))\n",
       "  (fc1): Linear(in_features=1296, out_features=32, bias=True)\n",
       "  (fc2): Linear(in_features=32, out_features=16, bias=True)\n",
       "  (dropout): Dropout(p=0.3, inplace=False)\n",
       "  (fc3): Linear(in_features=16, out_features=2, bias=True)\n",
       ")"
      ]
     },
     "execution_count": 97,
     "metadata": {},
     "output_type": "execute_result"
    }
   ],
   "source": [
    "model_infer = Net().to(device)\n",
    "model_infer.load_state_dict(torch.load(\"model/ver2/best2.pt\"))\n",
    "model_infer.eval()"
   ]
  },
  {
   "cell_type": "code",
   "execution_count": 98,
   "id": "e8306c2c-b8de-4aef-ac35-a2e7c0e4abaa",
   "metadata": {},
   "outputs": [],
   "source": [
    "predict = []\n",
    "actual = []\n",
    "for i, data in enumerate(test_dataloader):\n",
    "    inputs, labels = data[0].to(device), data[1].to(device)\n",
    "\n",
    "    # forward + backward + optimize\n",
    "    outputs = model_infer(inputs)\n",
    "    _, predicted = torch.max(outputs.data, 1)\n",
    "    predict.append(predicted.cpu().detach().numpy())\n",
    "    actual.append(labels.cpu().detach().numpy())\n",
    "    \n",
    "predict = np.concatenate(predict)\n",
    "actual = np.concatenate(actual)"
   ]
  },
  {
   "cell_type": "code",
   "execution_count": 99,
   "id": "a2f64c1b-6e00-4fbc-9bb9-297ea7673bda",
   "metadata": {},
   "outputs": [
    {
     "name": "stdout",
     "output_type": "stream",
     "text": [
      "F1 Score: 0.8980099502487562\n",
      "Accuracy: 0.8685897435897436\n",
      "Precision: 0.8719806763285024\n",
      "Recall: 0.9256410256410257\n"
     ]
    },
    {
     "data": {
      "image/png": "[encoded data removed]",
      "text/plain": [
       "<Figure size 432x288 with 2 Axes>"
      ]
     },
     "metadata": {
      "needs_background": "light"
     },
     "output_type": "display_data"
    }
   ],
   "source": [
    "print(f\"F1 Score: {f1_score(actual, predict)}\")\n",
    "print(f\"Accuracy: {accuracy_score(actual, predict)}\")\n",
    "print(f\"Precision: {precision_score(actual, predict)}\")\n",
    "print(f\"Recall: {recall_score(actual, predict)}\")\n",
    "\n",
    "show_confusion_matrix(actual, predict)"
   ]
  },
  {
   "cell_type": "code",
   "execution_count": null,
   "id": "d0c34243-c9ae-4d5e-b209-09d15e0fae50",
   "metadata": {},
   "outputs": [],
   "source": []
  }
 ],
 "metadata": {
  "kernelspec": {
   "display_name": "X-ray_CUDA",
   "language": "python",
   "name": "x-ray_cuda"
  },
  "language_info": {
   "codemirror_mode": {
    "name": "ipython",
    "version": 3
   },
   "file_extension": ".py",
   "mimetype": "text/x-python",
   "name": "python",
   "nbconvert_exporter": "python",
   "pygments_lexer": "ipython3",
   "version": "3.7.11"
  }
 },
 "nbformat": 4,
 "nbformat_minor": 5
}
